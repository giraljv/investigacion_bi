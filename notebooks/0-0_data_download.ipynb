{
 "cells": [
  {
   "cell_type": "code",
   "execution_count": 17,
   "metadata": {},
   "outputs": [],
   "source": [
    "import pandas as pd\n",
    "import seaborn as sns\n",
    "import matplotlib.pyplot as plt\n",
    "import numpy as np\n",
    "import utils.paths as path"
   ]
  },
  {
   "cell_type": "code",
   "execution_count": 18,
   "metadata": {},
   "outputs": [],
   "source": [
    "data_dir = path.make_dir_function(\"data\")"
   ]
  },
  {
   "cell_type": "code",
   "execution_count": 19,
   "metadata": {},
   "outputs": [],
   "source": [
    "df_forcluster = pd.read_csv(data_dir(\"raw\",\"marketing_campaign.csv\"),sep=\"\\t\")"
   ]
  },
  {
   "cell_type": "code",
   "execution_count": 20,
   "metadata": {},
   "outputs": [
    {
     "data": {
      "text/plain": [
       "(2216, 29)"
      ]
     },
     "execution_count": 20,
     "metadata": {},
     "output_type": "execute_result"
    }
   ],
   "source": [
    "#drop valores nulos\n",
    "df_forcluster = df_forcluster.dropna()\n",
    "#drop outlier\n",
    "df_forcluster = df_forcluster[df_forcluster['Income']<200000]\n",
    "df_forcluster.shape"
   ]
  },
  {
   "cell_type": "code",
   "execution_count": 28,
   "metadata": {},
   "outputs": [],
   "source": [
    "df_forcluster = (\n",
    "    df_forcluster\n",
    "    .rename(\n",
    "        columns=\n",
    "        {\n",
    "            \"MntWines\": \"Wines\",\n",
    "            \"MntFruits\":\"Fruits\",\n",
    "            \"MntMeatProducts\":\"Meat\",\n",
    "            \"MntFishProducts\":\"Fish\",\n",
    "            \"MntSweetProducts\":\"Sweets\",\n",
    "            \"MntGoldProds\":\"Gold\"\n",
    "        }\n",
    "    )\n",
    "        \n",
    ")"
   ]
  },
  {
   "cell_type": "code",
   "execution_count": 32,
   "metadata": {},
   "outputs": [],
   "source": [
    "df_forcluster[\"Spent\"] = df_forcluster[\"Wines\"]+df_forcluster[\"Fruits\"] + df_forcluster[\"Meat\"]+ df_forcluster[\"Fish\"]+ df_forcluster[\"Sweets\"]+ df_forcluster[\"Gold\"]\n",
    "\n",
    "#Creacion de feature Age\n",
    "df_forcluster['Age'] = 2023-df_forcluster['Year_Birth']\n",
    "\n",
    "#arreglos en Marital_status\n",
    "df_forcluster['Marital_Status'] = df_forcluster['Marital_Status'].replace(['Alone',\n",
    "       'Absurd', 'YOLO'],'Single')"
   ]
  },
  {
   "cell_type": "code",
   "execution_count": 33,
   "metadata": {},
   "outputs": [],
   "source": [
    "\n",
    "#Quitaremos algunos outliers en las edades\n",
    "df_forcluster = df_forcluster[df_forcluster['Age']<=85]"
   ]
  },
  {
   "cell_type": "code",
   "execution_count": 34,
   "metadata": {},
   "outputs": [],
   "source": [
    "\n",
    "#eliminando columnas que no sean necesarias para el modelo.\n",
    "cols_to_delete = ['ID','Year_Birth','Z_CostContact', 'Z_Revenue','Dt_Customer']\n",
    "df_forcluster.drop(cols_to_delete,inplace=True,axis=1)"
   ]
  },
  {
   "cell_type": "code",
   "execution_count": null,
   "metadata": {},
   "outputs": [],
   "source": [
    "df_forcluster.to_csv(\n",
    "        path_or_buf=data_dir(\"processed\",'df_forcluster.csv'),\n",
    "        index=False,\n",
    "        sep=\",\"\n",
    "\n",
    "    )"
   ]
  }
 ],
 "metadata": {
  "kernelspec": {
   "display_name": "mall_segmentation",
   "language": "python",
   "name": "python3"
  },
  "language_info": {
   "codemirror_mode": {
    "name": "ipython",
    "version": 3
   },
   "file_extension": ".py",
   "mimetype": "text/x-python",
   "name": "python",
   "nbconvert_exporter": "python",
   "pygments_lexer": "ipython3",
   "version": "3.9.16"
  },
  "orig_nbformat": 4
 },
 "nbformat": 4,
 "nbformat_minor": 2
}
